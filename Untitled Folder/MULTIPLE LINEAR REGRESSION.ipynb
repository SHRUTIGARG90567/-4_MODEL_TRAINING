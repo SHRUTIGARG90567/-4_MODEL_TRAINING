{
 "cells": [
  {
   "cell_type": "code",
   "execution_count": 132,
   "id": "8e999b56",
   "metadata": {},
   "outputs": [],
   "source": [
    "from sklearn.datasets import make_regression"
   ]
  },
  {
   "cell_type": "code",
   "execution_count": 133,
   "id": "9567fb9d",
   "metadata": {},
   "outputs": [],
   "source": [
    "import pandas as pd"
   ]
  },
  {
   "cell_type": "code",
   "execution_count": 134,
   "id": "fd19991a",
   "metadata": {},
   "outputs": [],
   "source": [
    "import numpy as np"
   ]
  },
  {
   "cell_type": "code",
   "execution_count": 135,
   "id": "e56eaee3",
   "metadata": {},
   "outputs": [],
   "source": [
    "import plotly.express as px"
   ]
  },
  {
   "cell_type": "code",
   "execution_count": 136,
   "id": "3a9ce01e",
   "metadata": {},
   "outputs": [],
   "source": [
    "import plotly.graph_objects as go"
   ]
  },
  {
   "cell_type": "code",
   "execution_count": 137,
   "id": "563f0075",
   "metadata": {},
   "outputs": [],
   "source": [
    "from sklearn.metrics import mean_absolute_error, mean_squared_error, r2_score"
   ]
  },
  {
   "cell_type": "code",
   "execution_count": 138,
   "id": "5aa057d9",
   "metadata": {},
   "outputs": [],
   "source": [
    "x,y = make_regression(n_samples = 100, n_features = 2, n_informative = 2 , noise = 50)"
   ]
  },
  {
   "cell_type": "code",
   "execution_count": 139,
   "id": "22270924",
   "metadata": {},
   "outputs": [],
   "source": [
    "df = pd.DataFrame({'feature1':x[:,0], 'feature2':x[:,1], 'target' : y})"
   ]
  },
  {
   "cell_type": "code",
   "execution_count": 140,
   "id": "9d4904db",
   "metadata": {},
   "outputs": [
    {
     "data": {
      "text/html": [
       "<div>\n",
       "<style scoped>\n",
       "    .dataframe tbody tr th:only-of-type {\n",
       "        vertical-align: middle;\n",
       "    }\n",
       "\n",
       "    .dataframe tbody tr th {\n",
       "        vertical-align: top;\n",
       "    }\n",
       "\n",
       "    .dataframe thead th {\n",
       "        text-align: right;\n",
       "    }\n",
       "</style>\n",
       "<table border=\"1\" class=\"dataframe\">\n",
       "  <thead>\n",
       "    <tr style=\"text-align: right;\">\n",
       "      <th></th>\n",
       "      <th>feature1</th>\n",
       "      <th>feature2</th>\n",
       "      <th>target</th>\n",
       "    </tr>\n",
       "  </thead>\n",
       "  <tbody>\n",
       "    <tr>\n",
       "      <th>0</th>\n",
       "      <td>0.970238</td>\n",
       "      <td>-0.114413</td>\n",
       "      <td>65.907342</td>\n",
       "    </tr>\n",
       "    <tr>\n",
       "      <th>1</th>\n",
       "      <td>1.543362</td>\n",
       "      <td>-0.138244</td>\n",
       "      <td>56.510781</td>\n",
       "    </tr>\n",
       "    <tr>\n",
       "      <th>2</th>\n",
       "      <td>0.845914</td>\n",
       "      <td>1.222111</td>\n",
       "      <td>64.595885</td>\n",
       "    </tr>\n",
       "    <tr>\n",
       "      <th>3</th>\n",
       "      <td>-0.887650</td>\n",
       "      <td>-1.253811</td>\n",
       "      <td>-35.355199</td>\n",
       "    </tr>\n",
       "    <tr>\n",
       "      <th>4</th>\n",
       "      <td>-2.113285</td>\n",
       "      <td>-1.199262</td>\n",
       "      <td>-202.448587</td>\n",
       "    </tr>\n",
       "  </tbody>\n",
       "</table>\n",
       "</div>"
      ],
      "text/plain": [
       "   feature1  feature2      target\n",
       "0  0.970238 -0.114413   65.907342\n",
       "1  1.543362 -0.138244   56.510781\n",
       "2  0.845914  1.222111   64.595885\n",
       "3 -0.887650 -1.253811  -35.355199\n",
       "4 -2.113285 -1.199262 -202.448587"
      ]
     },
     "execution_count": 140,
     "metadata": {},
     "output_type": "execute_result"
    }
   ],
   "source": [
    "df.head()"
   ]
  },
  {
   "cell_type": "code",
   "execution_count": 141,
   "id": "e5d519db",
   "metadata": {},
   "outputs": [
    {
     "data": {
      "text/plain": [
       "(100, 3)"
      ]
     },
     "execution_count": 141,
     "metadata": {},
     "output_type": "execute_result"
    }
   ],
   "source": [
    "df.shape"
   ]
  },
  {
   "cell_type": "code",
   "execution_count": 142,
   "id": "61e75abd",
   "metadata": {},
   "outputs": [],
   "source": [
    "fig = px.scatter_3d(df, x = \"feature1\", y = \"feature2\", z = \"target\")"
   ]
  },
  {
   "cell_type": "code",
   "execution_count": 143,
   "id": "c5ea6c7f",
   "metadata": {},
   "outputs": [
    {
     "data": {
      "text/plain": [
       "<bound method BaseFigure.show of Figure({\n",
       "    'data': [{'hovertemplate': 'feature1=%{x}<br>feature2=%{y}<br>target=%{z}<extra></extra>',\n",
       "              'legendgroup': '',\n",
       "              'marker': {'color': '#636efa', 'symbol': 'circle'},\n",
       "              'mode': 'markers',\n",
       "              'name': '',\n",
       "              'scene': 'scene',\n",
       "              'showlegend': False,\n",
       "              'type': 'scatter3d',\n",
       "              'x': array([ 0.97023799,  1.54336158,  0.84591433, -0.88764958, -2.11328528,\n",
       "                          -0.40071195,  0.57182294, -0.88573422,  0.54538571, -1.27500744,\n",
       "                           0.03349935, -0.15768364,  0.18510679, -0.58048329,  0.76877477,\n",
       "                          -1.84907281, -0.23160989, -0.17610708, -1.58820854,  0.13835353,\n",
       "                          -0.47106538,  0.06769276, -0.43897952, -1.62530499, -0.30781153,\n",
       "                           0.09682716, -2.21017557,  0.49356045, -0.96566111,  1.25007061,\n",
       "                          -1.39572322,  0.13884191,  1.28156846, -1.29856937,  0.00538205,\n",
       "                           0.95510988,  0.68958185, -0.35457993, -0.48788512,  0.60219998,\n",
       "                          -0.03942364,  3.00418026,  0.40493968, -0.15186932, -1.1731518 ,\n",
       "                           0.11932725, -1.65817854,  0.8374078 ,  0.67684971,  0.20588177,\n",
       "                          -0.35402053,  1.06167714,  0.82279396,  1.10686926, -1.38513406,\n",
       "                          -0.60983495, -0.13901598, -0.24036664,  0.416639  ,  1.47678003,\n",
       "                          -0.15281186, -0.05818296, -0.56781713,  0.55705837,  0.26369068,\n",
       "                           0.74430632,  0.27308194, -0.44505181,  0.05718149, -1.27263388,\n",
       "                          -0.47303202, -0.83641186,  1.24945073,  1.14139661, -0.86795081,\n",
       "                          -0.87974583,  1.66720323,  1.14370246,  0.6819671 , -0.28739605,\n",
       "                          -0.90086656,  0.43594644,  0.35870692,  0.70610808,  1.91953248,\n",
       "                          -2.39281941, -0.67232529,  0.74283968,  0.62869614,  0.65245494,\n",
       "                          -1.11390238, -2.14815713, -0.35271157,  0.56666974, -0.17916789,\n",
       "                           1.01272005,  0.39765521, -0.8252852 ,  0.25753236, -0.86862377]),\n",
       "              'y': array([-1.14413050e-01, -1.38243800e-01,  1.22211144e+00, -1.25381137e+00,\n",
       "                          -1.19926245e+00,  1.34752142e+00,  2.94989198e-01,  6.86117369e-01,\n",
       "                           9.80727447e-02, -2.38500871e-01, -1.40477021e+00, -1.70956800e+00,\n",
       "                          -6.67013922e-01,  4.17554741e-01,  1.28350613e+00,  1.22143222e+00,\n",
       "                           1.34955852e-01,  8.31992340e-02, -4.40791137e-01, -9.57641232e-01,\n",
       "                           6.59988216e-01, -5.32864676e-01, -1.26680567e-01,  6.94493636e-01,\n",
       "                           1.00080498e+00, -2.24464257e-01, -3.04926972e-01,  7.95955579e-01,\n",
       "                           4.42682865e-01,  9.16130409e-01,  2.43389158e-01, -2.88164002e-01,\n",
       "                           5.08307124e-01, -9.31529118e-01, -1.53883801e+00,  1.15513084e+00,\n",
       "                           3.89124783e-02,  2.73186919e-01, -7.34215644e-01,  1.85783297e+00,\n",
       "                           1.01796406e+00,  5.09458350e-01, -2.17485913e-01,  2.06928686e-02,\n",
       "                           4.58392987e-02, -3.16571874e-01, -6.09491269e-01, -1.45338319e-03,\n",
       "                          -2.50769435e-01,  5.91698197e-01, -1.35410506e+00,  1.22997782e-01,\n",
       "                          -6.23512852e-01, -6.45383845e-01,  5.36124995e-01,  1.12696655e+00,\n",
       "                          -1.68962805e+00,  2.07422877e+00, -6.80235361e-01,  9.92206449e-01,\n",
       "                           1.88884194e-01, -1.75960480e-01, -1.72621833e-01, -1.69029887e+00,\n",
       "                           5.01669770e-01,  7.88660368e-01,  7.92791419e-02,  3.28380069e-01,\n",
       "                           2.32785541e-01,  1.48246778e+00, -5.12063853e-01,  9.59694124e-01,\n",
       "                           1.62561240e+00,  7.71764457e-01,  5.68365100e-01,  8.38879882e-01,\n",
       "                           1.78825976e+00,  1.45632517e+00,  1.08132809e+00, -1.04870527e+00,\n",
       "                           7.63092908e-01,  1.06120722e+00,  9.49433804e-01,  6.18871450e-01,\n",
       "                          -3.16104466e-01, -3.81102219e-01, -1.27197557e+00, -2.00196168e-01,\n",
       "                           2.62771215e+00, -2.11226973e-01, -1.21897205e+00,  9.95126579e-01,\n",
       "                          -4.78126846e-01,  8.98045013e-02, -1.14145571e+00,  4.68910922e-01,\n",
       "                           9.16573969e-02,  7.64100324e-01, -5.04053189e-03,  4.33499147e-01]),\n",
       "              'z': array([  65.90734204,   56.51078087,   64.59588532,  -35.35519869,\n",
       "                          -202.44858716,  -90.47935027,   33.4000932 ,  -35.30984416,\n",
       "                            68.81544579,  -84.36509691,  -75.54474067,  -68.41194122,\n",
       "                            29.90651331,   21.3889847 ,   78.68407197,  -17.91413838,\n",
       "                            -7.60446874,   58.92265233, -159.2465805 ,  -39.16227078,\n",
       "                           -58.08941157,    9.03747539,  -43.26095138, -106.27853517,\n",
       "                            57.35457027,   17.2231359 , -159.22780999,   97.82312557,\n",
       "                           -65.39182034,  119.40579725, -169.57313343,    6.20376492,\n",
       "                           126.6552731 , -114.72474654,   23.17944712,  110.50446576,\n",
       "                            89.10253476,  -43.53678116,  -44.58394847,   80.31525377,\n",
       "                           -37.14517087,  256.12746436,   59.59615518,  -15.20868482,\n",
       "                           -80.41777494,  -12.1600512 , -153.8936701 ,  -82.58905915,\n",
       "                           150.0091017 ,  -10.73263284,  -63.15093002,  115.65996028,\n",
       "                           -24.87169577,   23.14235049, -100.4792411 ,  -16.05957728,\n",
       "                           -54.27439739,   78.59607204,   18.36955595,   51.65760848,\n",
       "                           -63.4315595 ,  -15.33197892,  -22.64929005,   85.49533679,\n",
       "                            -8.39646081,   -3.10895532,   20.02777013,   35.54981006,\n",
       "                          -121.00260553,  -70.63607256, -104.23918194, -111.67408274,\n",
       "                            79.60679644,  112.66680406,  -91.07831417,  -68.03605028,\n",
       "                           146.38514806,  152.31997651,   94.35974527, -126.38190262,\n",
       "                            -7.59572052,   55.6836455 ,  123.29720373,  164.92307775,\n",
       "                           187.28148313, -246.61752903,  -77.31043557,   23.26012975,\n",
       "                           134.70974698,   24.33840999, -111.94498268, -192.79102129,\n",
       "                            16.32879766,  138.5042367 ,  -91.46498452,   44.48796289,\n",
       "                            70.58864169,  -12.36742088,  -13.67019504,  -63.30043384])}],\n",
       "    'layout': {'legend': {'tracegroupgap': 0},\n",
       "               'margin': {'t': 60},\n",
       "               'scene': {'domain': {'x': [0.0, 1.0], 'y': [0.0, 1.0]},\n",
       "                         'xaxis': {'title': {'text': 'feature1'}},\n",
       "                         'yaxis': {'title': {'text': 'feature2'}},\n",
       "                         'zaxis': {'title': {'text': 'target'}}},\n",
       "               'template': '...'}\n",
       "})>"
      ]
     },
     "execution_count": 143,
     "metadata": {},
     "output_type": "execute_result"
    }
   ],
   "source": [
    "fig.show"
   ]
  },
  {
   "cell_type": "code",
   "execution_count": 144,
   "id": "668e3ca6",
   "metadata": {},
   "outputs": [],
   "source": [
    "from sklearn.model_selection import train_test_split\n",
    "x_train, x_test, y_train, y_test = train_test_split(x,y, test_size = 0.2)"
   ]
  },
  {
   "cell_type": "code",
   "execution_count": 145,
   "id": "b2576868",
   "metadata": {},
   "outputs": [
    {
     "data": {
      "text/html": [
       "<style>#sk-container-id-6 {color: black;background-color: white;}#sk-container-id-6 pre{padding: 0;}#sk-container-id-6 div.sk-toggleable {background-color: white;}#sk-container-id-6 label.sk-toggleable__label {cursor: pointer;display: block;width: 100%;margin-bottom: 0;padding: 0.3em;box-sizing: border-box;text-align: center;}#sk-container-id-6 label.sk-toggleable__label-arrow:before {content: \"▸\";float: left;margin-right: 0.25em;color: #696969;}#sk-container-id-6 label.sk-toggleable__label-arrow:hover:before {color: black;}#sk-container-id-6 div.sk-estimator:hover label.sk-toggleable__label-arrow:before {color: black;}#sk-container-id-6 div.sk-toggleable__content {max-height: 0;max-width: 0;overflow: hidden;text-align: left;background-color: #f0f8ff;}#sk-container-id-6 div.sk-toggleable__content pre {margin: 0.2em;color: black;border-radius: 0.25em;background-color: #f0f8ff;}#sk-container-id-6 input.sk-toggleable__control:checked~div.sk-toggleable__content {max-height: 200px;max-width: 100%;overflow: auto;}#sk-container-id-6 input.sk-toggleable__control:checked~label.sk-toggleable__label-arrow:before {content: \"▾\";}#sk-container-id-6 div.sk-estimator input.sk-toggleable__control:checked~label.sk-toggleable__label {background-color: #d4ebff;}#sk-container-id-6 div.sk-label input.sk-toggleable__control:checked~label.sk-toggleable__label {background-color: #d4ebff;}#sk-container-id-6 input.sk-hidden--visually {border: 0;clip: rect(1px 1px 1px 1px);clip: rect(1px, 1px, 1px, 1px);height: 1px;margin: -1px;overflow: hidden;padding: 0;position: absolute;width: 1px;}#sk-container-id-6 div.sk-estimator {font-family: monospace;background-color: #f0f8ff;border: 1px dotted black;border-radius: 0.25em;box-sizing: border-box;margin-bottom: 0.5em;}#sk-container-id-6 div.sk-estimator:hover {background-color: #d4ebff;}#sk-container-id-6 div.sk-parallel-item::after {content: \"\";width: 100%;border-bottom: 1px solid gray;flex-grow: 1;}#sk-container-id-6 div.sk-label:hover label.sk-toggleable__label {background-color: #d4ebff;}#sk-container-id-6 div.sk-serial::before {content: \"\";position: absolute;border-left: 1px solid gray;box-sizing: border-box;top: 0;bottom: 0;left: 50%;z-index: 0;}#sk-container-id-6 div.sk-serial {display: flex;flex-direction: column;align-items: center;background-color: white;padding-right: 0.2em;padding-left: 0.2em;position: relative;}#sk-container-id-6 div.sk-item {position: relative;z-index: 1;}#sk-container-id-6 div.sk-parallel {display: flex;align-items: stretch;justify-content: center;background-color: white;position: relative;}#sk-container-id-6 div.sk-item::before, #sk-container-id-6 div.sk-parallel-item::before {content: \"\";position: absolute;border-left: 1px solid gray;box-sizing: border-box;top: 0;bottom: 0;left: 50%;z-index: -1;}#sk-container-id-6 div.sk-parallel-item {display: flex;flex-direction: column;z-index: 1;position: relative;background-color: white;}#sk-container-id-6 div.sk-parallel-item:first-child::after {align-self: flex-end;width: 50%;}#sk-container-id-6 div.sk-parallel-item:last-child::after {align-self: flex-start;width: 50%;}#sk-container-id-6 div.sk-parallel-item:only-child::after {width: 0;}#sk-container-id-6 div.sk-dashed-wrapped {border: 1px dashed gray;margin: 0 0.4em 0.5em 0.4em;box-sizing: border-box;padding-bottom: 0.4em;background-color: white;}#sk-container-id-6 div.sk-label label {font-family: monospace;font-weight: bold;display: inline-block;line-height: 1.2em;}#sk-container-id-6 div.sk-label-container {text-align: center;}#sk-container-id-6 div.sk-container {/* jupyter's `normalize.less` sets `[hidden] { display: none; }` but bootstrap.min.css set `[hidden] { display: none !important; }` so we also need the `!important` here to be able to override the default hidden behavior on the sphinx rendered scikit-learn.org. See: https://github.com/scikit-learn/scikit-learn/issues/21755 */display: inline-block !important;position: relative;}#sk-container-id-6 div.sk-text-repr-fallback {display: none;}</style><div id=\"sk-container-id-6\" class=\"sk-top-container\"><div class=\"sk-text-repr-fallback\"><pre>LinearRegression()</pre><b>In a Jupyter environment, please rerun this cell to show the HTML representation or trust the notebook. <br />On GitHub, the HTML representation is unable to render, please try loading this page with nbviewer.org.</b></div><div class=\"sk-container\" hidden><div class=\"sk-item\"><div class=\"sk-estimator sk-toggleable\"><input class=\"sk-toggleable__control sk-hidden--visually\" id=\"sk-estimator-id-6\" type=\"checkbox\" checked><label for=\"sk-estimator-id-6\" class=\"sk-toggleable__label sk-toggleable__label-arrow\">LinearRegression</label><div class=\"sk-toggleable__content\"><pre>LinearRegression()</pre></div></div></div></div></div>"
      ],
      "text/plain": [
       "LinearRegression()"
      ]
     },
     "execution_count": 145,
     "metadata": {},
     "output_type": "execute_result"
    }
   ],
   "source": [
    "from sklearn.linear_model import LinearRegression\n",
    "clf = LinearRegression()\n",
    "clf.fit(x_train,y_train)"
   ]
  },
  {
   "cell_type": "code",
   "execution_count": 146,
   "id": "0fca94db",
   "metadata": {},
   "outputs": [],
   "source": [
    "y_pred = clf.predict(x_test)"
   ]
  },
  {
   "cell_type": "code",
   "execution_count": 147,
   "id": "9078d0c1",
   "metadata": {},
   "outputs": [
    {
     "name": "stdout",
     "output_type": "stream",
     "text": [
      "MAE 33.30264356070721\n",
      "MSE 2088.210520507056\n",
      "RMSE 45.69694213519168\n",
      "r2 score 0.7214630378233828\n"
     ]
    }
   ],
   "source": [
    "print ('MAE', mean_absolute_error(y_test , y_pred))\n",
    "print ('MSE', mean_squared_error(y_test , y_pred))\n",
    "print ('RMSE', np.sqrt(mean_squared_error(y_test , y_pred)))\n",
    "print ('r2 score', r2_score(y_test , y_pred))"
   ]
  },
  {
   "cell_type": "code",
   "execution_count": 148,
   "id": "424465e7",
   "metadata": {},
   "outputs": [],
   "source": [
    "# here this code to draw the planee"
   ]
  },
  {
   "cell_type": "code",
   "execution_count": 149,
   "id": "4c2b3b1a",
   "metadata": {},
   "outputs": [],
   "source": [
    "x = np.linspace(-5,5,10)\n",
    "y = np.linspace(-5,5,10)\n",
    "\n",
    "xGrid , yGrid = np.meshgrid(y,x)\n",
    "final = np.vstack((xGrid.ravel(), yGrid.ravel())).T\n",
    "\n",
    "#final  = np.vstack((xGrid.ravel().reshape(100,2),  yGrid.ravel().reshape(100,2))).T\n",
    "z_final = clf.predict(final).reshape(10,10)\n",
    "\n",
    "z = z_final\n",
    "\n"
   ]
  },
  {
   "cell_type": "code",
   "execution_count": 150,
   "id": "f1bd4fe4",
   "metadata": {},
   "outputs": [
    {
     "data": {
      "application/vnd.plotly.v1+json": {
       "config": {
        "plotlyServerURL": "https://plot.ly"
       },
       "data": [
        {
         "hovertemplate": "feature1=%{x}<br>feature2=%{y}<br>target=%{z}<extra></extra>",
         "legendgroup": "",
         "marker": {
          "color": "#636efa",
          "symbol": "circle"
         },
         "mode": "markers",
         "name": "",
         "scene": "scene",
         "showlegend": false,
         "type": "scatter3d",
         "x": [
          0.9702379924702592,
          1.5433615812223807,
          0.8459143346493421,
          -0.8876495784524387,
          -2.113285275672615,
          -0.40071195352171024,
          0.5718229370095487,
          -0.8857342201354389,
          0.5453857096865975,
          -1.27500743500689,
          0.03349935339285893,
          -0.15768364104030871,
          0.18510679461508953,
          -0.5804832855058661,
          0.7687747706174065,
          -1.8490728073138483,
          -0.23160989416261574,
          -0.1761070828141838,
          -1.5882085374244352,
          0.1383535281724763,
          -0.4710653815789754,
          0.06769275545408494,
          -0.4389795157301932,
          -1.6253049894150677,
          -0.30781152818103014,
          0.09682715786832102,
          -2.2101755709885706,
          0.49356044614317857,
          -0.9656611128544924,
          1.2500706095173002,
          -1.3957232184808266,
          0.13884190550251965,
          1.2815684646297785,
          -1.29856937051068,
          0.005382047803512143,
          0.9551098821736718,
          0.6895818489687177,
          -0.35457992645750525,
          -0.48788511556457753,
          0.6021999766774896,
          -0.03942363931922909,
          3.004180258112118,
          0.4049396789531045,
          -0.1518693200380407,
          -1.1731518036155664,
          0.11932724818356506,
          -1.6581785435582341,
          0.8374078040169249,
          0.6768497147864629,
          0.2058817713744818,
          -0.3540205330248798,
          1.0616771356059065,
          0.8227939618624455,
          1.1068692635581432,
          -1.3851340631279228,
          -0.6098349535305282,
          -0.1390159794694083,
          -0.2403666412477221,
          0.4166390022325008,
          1.4767800296201268,
          -0.15281186135829333,
          -0.05818295760459455,
          -0.5678171304744687,
          0.5570583673419661,
          0.26369068453891925,
          0.7443063205446475,
          0.2730819440279613,
          -0.44505181004979205,
          0.05718148651269524,
          -1.272633880262574,
          -0.4730320170182742,
          -0.8364118631114149,
          1.2494507286685188,
          1.1413966146063257,
          -0.8679508108937407,
          -0.8797458294599911,
          1.6672032343561483,
          1.143702459962713,
          0.6819670958871177,
          -0.2873960540203412,
          -0.9008665577177111,
          0.4359464407609085,
          0.35870691509147057,
          0.7061080833549729,
          1.9195324834366587,
          -2.3928194147934754,
          -0.6723252933246269,
          0.7428396793880035,
          0.6286961390196588,
          0.6524549392363433,
          -1.1139023782493762,
          -2.148157127441554,
          -0.3527115706530105,
          0.5666697397789476,
          -0.17916789498196775,
          1.012720049863988,
          0.39765521133827925,
          -0.8252852004221252,
          0.25753235641182587,
          -0.868623774800671
         ],
         "y": [
          -0.11441305014730874,
          -0.13824379964609423,
          1.2221114369663728,
          -1.2538113651669673,
          -1.1992624455844743,
          1.3475214174646604,
          0.29498919814069713,
          0.6861173687791929,
          0.09807274473626292,
          -0.2385008713807715,
          -1.404770210450859,
          -1.709567998675895,
          -0.6670139220239006,
          0.4175547406376275,
          1.2835061260853204,
          1.2214322218833917,
          0.13495585167166854,
          0.08319923400654514,
          -0.44079113708382806,
          -0.9576412317837558,
          0.6599882162139562,
          -0.5328646758707895,
          -0.12668056703733457,
          0.6944936357486629,
          1.0008049811316284,
          -0.22446425692296404,
          -0.30492697201475427,
          0.7959555785806727,
          0.4426828647603444,
          0.9161304087191907,
          0.243389158200308,
          -0.28816400226624905,
          0.508307123600646,
          -0.9315291177345624,
          -1.5388380078304897,
          1.1551308394396806,
          0.0389124782698011,
          0.27318691881588536,
          -0.7342156437057688,
          1.8578329672225065,
          1.0179640619962944,
          0.5094583496204147,
          -0.21748591347230697,
          0.020692868574572768,
          0.04583929866688389,
          -0.3165718740314881,
          -0.6094912685007408,
          -0.0014533831909909795,
          -0.25076943459068757,
          0.591698197430864,
          -1.3541050601391063,
          0.12299778177167486,
          -0.6235128521824489,
          -0.6453838451076134,
          0.536124994703549,
          1.126966546330526,
          -1.6896280484724058,
          2.0742287717196333,
          -0.6802353614381138,
          0.9922064489384671,
          0.18888419428288625,
          -0.17596047955659336,
          -0.17262183341008663,
          -1.6902988710612161,
          0.5016697697731489,
          0.7886603675687531,
          0.07927914188994378,
          0.3283800688543579,
          0.23278554097907475,
          1.4824677793772298,
          -0.5120638526202859,
          0.959694124166886,
          1.6256124026334307,
          0.771764456578379,
          0.5683650999978827,
          0.8388798816530338,
          1.788259755168395,
          1.4563251651506506,
          1.0813280868576975,
          -1.0487052730439728,
          0.7630929080671753,
          1.061207222483636,
          0.9494338043294139,
          0.6188714495122847,
          -0.3161044655885712,
          -0.38110221888600254,
          -1.271975570912163,
          -0.20019616840435414,
          2.6277121503252245,
          -0.21122697285302122,
          -1.2189720511642828,
          0.9951265785845175,
          -0.47812684575802433,
          0.08980450130976336,
          -1.1414557069447218,
          0.46891092162020176,
          0.09165739690377271,
          0.7641003236531835,
          -0.005040531890329803,
          0.4334991466775609
         ],
         "z": [
          65.90734204341712,
          56.51078087190862,
          64.59588531581616,
          -35.355198693069525,
          -202.44858715740148,
          -90.47935027362435,
          33.400093202333196,
          -35.30984416274306,
          68.8154457908281,
          -84.36509691374424,
          -75.54474066944077,
          -68.41194121617286,
          29.906513307212474,
          21.388984703663347,
          78.6840719738336,
          -17.914138384918886,
          -7.6044687354286875,
          58.92265232720877,
          -159.2465805015383,
          -39.16227077672266,
          -58.08941156600705,
          9.037475390496745,
          -43.26095137851604,
          -106.27853517139016,
          57.35457027131692,
          17.223135898403243,
          -159.22780999118655,
          97.8231255701524,
          -65.39182034063711,
          119.40579725036898,
          -169.573133429096,
          6.203764920324485,
          126.65527309720153,
          -114.72474653772778,
          23.179447124301625,
          110.50446576170523,
          89.10253476448227,
          -43.536781156681045,
          -44.583948465315565,
          80.31525377327942,
          -37.145170873272576,
          256.1274643574599,
          59.596155178219874,
          -15.208684823924564,
          -80.41777493615366,
          -12.160051199325963,
          -153.89367010456164,
          -82.5890591467105,
          150.00910170362542,
          -10.732632839100845,
          -63.15093001571181,
          115.65996028286466,
          -24.87169577001972,
          23.142350493589888,
          -100.47924109812422,
          -16.059577284428457,
          -54.27439739499927,
          78.59607204065202,
          18.369555948701116,
          51.65760847959278,
          -63.43155950000755,
          -15.331978916439404,
          -22.649290045275077,
          85.49533679034114,
          -8.396460809710813,
          -3.1089553245685977,
          20.02777013477762,
          35.54981005914178,
          -121.0026055256799,
          -70.63607255944008,
          -104.23918193942474,
          -111.67408273557788,
          79.60679643512712,
          112.66680405552663,
          -91.07831417137763,
          -68.03605027530759,
          146.3851480619604,
          152.31997651165645,
          94.35974527056125,
          -126.38190261981016,
          -7.595720523209614,
          55.68364549914557,
          123.29720373292919,
          164.923077753979,
          187.28148312651092,
          -246.61752903382842,
          -77.31043557311638,
          23.260129747064866,
          134.70974697798903,
          24.338409987357302,
          -111.94498268027675,
          -192.7910212897164,
          16.3287976602385,
          138.50423670174536,
          -91.46498451612274,
          44.48796288536894,
          70.58864168661651,
          -12.367420882633041,
          -13.670195042588002,
          -63.30043383789165
         ]
        },
        {
         "type": "surface",
         "x": [
          -5,
          -3.888888888888889,
          -2.7777777777777777,
          -1.6666666666666665,
          -0.5555555555555554,
          0.5555555555555554,
          1.666666666666667,
          2.7777777777777786,
          3.8888888888888893,
          5
         ],
         "y": [
          -5,
          -3.888888888888889,
          -2.7777777777777777,
          -1.6666666666666665,
          -0.5555555555555554,
          0.5555555555555554,
          1.666666666666667,
          2.7777777777777786,
          3.8888888888888893,
          5
         ],
         "z": [
          [
           -517.4385780289045,
           -429.4986037865468,
           -341.5586295441891,
           -253.61865530183144,
           -165.67868105947372,
           -77.73870681711608,
           10.201267425241639,
           98.14124166759939,
           186.08121590995705,
           274.0211901523147
          ],
          [
           -490.48643939592387,
           -402.54646515356615,
           -314.6064909112085,
           -226.66651666885076,
           -138.7265424264931,
           -50.78656818413543,
           37.15340605822229,
           125.09338030058004,
           213.03335454293773,
           300.9733287852954
          ],
          [
           -463.53430076294325,
           -375.5943265205855,
           -287.6543522782278,
           -199.71437803587014,
           -111.77440379351245,
           -23.83442955115478,
           64.10554469120294,
           152.0455189335607,
           239.98549317591835,
           327.925467418276
          ],
          [
           -436.58216212996257,
           -348.64218788760485,
           -260.7022136452472,
           -172.76223940288946,
           -84.8222651605318,
           3.1177090818258684,
           91.05768332418359,
           178.99765756654136,
           266.937631808899,
           354.8776060512567
          ],
          [
           -409.63002349698195,
           -321.6900492546242,
           -233.7500750122665,
           -145.81010076990884,
           -57.87012652755114,
           30.069847714806517,
           118.00982195716423,
           205.94979619952198,
           293.88977044187965,
           381.8297446842373
          ],
          [
           -382.67788486400127,
           -294.73791062164355,
           -206.7979363792859,
           -118.8579621369282,
           -30.917987894570505,
           57.021986347787156,
           144.96196059014488,
           232.9019348325026,
           320.8419090748603,
           408.781883317218
          ],
          [
           -355.72574623102065,
           -267.78577198866293,
           -179.8457977463052,
           -91.90582350394753,
           -3.9658492615898453,
           83.97412498076783,
           171.91409922312556,
           259.8540734654833,
           347.79404770784095,
           435.7340219501986
          ],
          [
           -328.77360759804,
           -240.83363335568225,
           -152.8936591133246,
           -64.95368487096688,
           22.986289371390814,
           110.92626361374847,
           198.86623785610618,
           286.80621209846396,
           374.7461863408216,
           462.6861605831793
          ],
          [
           -301.82146896505935,
           -213.88149472270163,
           -125.94152048034393,
           -38.00154623798624,
           49.93842800437145,
           137.87840224672914,
           225.81837648908686,
           313.7583507314446,
           401.69832497380224,
           489.6382992161599
          ],
          [
           -274.8693303320787,
           -186.92935608972095,
           -98.98938184736329,
           -11.049407605005598,
           76.8905666373521,
           164.83054087970976,
           252.77051512206748,
           340.71048936442526,
           428.6504636067829,
           516.5904378491406
          ]
         ]
        }
       ],
       "layout": {
        "legend": {
         "tracegroupgap": 0
        },
        "margin": {
         "t": 60
        },
        "scene": {
         "domain": {
          "x": [
           0,
           1
          ],
          "y": [
           0,
           1
          ]
         },
         "xaxis": {
          "title": {
           "text": "feature1"
          }
         },
         "yaxis": {
          "title": {
           "text": "feature2"
          }
         },
         "zaxis": {
          "title": {
           "text": "target"
          }
         }
        },
        "template": {
         "data": {
          "bar": [
           {
            "error_x": {
             "color": "#2a3f5f"
            },
            "error_y": {
             "color": "#2a3f5f"
            },
            "marker": {
             "line": {
              "color": "#E5ECF6",
              "width": 0.5
             },
             "pattern": {
              "fillmode": "overlay",
              "size": 10,
              "solidity": 0.2
             }
            },
            "type": "bar"
           }
          ],
          "barpolar": [
           {
            "marker": {
             "line": {
              "color": "#E5ECF6",
              "width": 0.5
             },
             "pattern": {
              "fillmode": "overlay",
              "size": 10,
              "solidity": 0.2
             }
            },
            "type": "barpolar"
           }
          ],
          "carpet": [
           {
            "aaxis": {
             "endlinecolor": "#2a3f5f",
             "gridcolor": "white",
             "linecolor": "white",
             "minorgridcolor": "white",
             "startlinecolor": "#2a3f5f"
            },
            "baxis": {
             "endlinecolor": "#2a3f5f",
             "gridcolor": "white",
             "linecolor": "white",
             "minorgridcolor": "white",
             "startlinecolor": "#2a3f5f"
            },
            "type": "carpet"
           }
          ],
          "choropleth": [
           {
            "colorbar": {
             "outlinewidth": 0,
             "ticks": ""
            },
            "type": "choropleth"
           }
          ],
          "contour": [
           {
            "colorbar": {
             "outlinewidth": 0,
             "ticks": ""
            },
            "colorscale": [
             [
              0,
              "#0d0887"
             ],
             [
              0.1111111111111111,
              "#46039f"
             ],
             [
              0.2222222222222222,
              "#7201a8"
             ],
             [
              0.3333333333333333,
              "#9c179e"
             ],
             [
              0.4444444444444444,
              "#bd3786"
             ],
             [
              0.5555555555555556,
              "#d8576b"
             ],
             [
              0.6666666666666666,
              "#ed7953"
             ],
             [
              0.7777777777777778,
              "#fb9f3a"
             ],
             [
              0.8888888888888888,
              "#fdca26"
             ],
             [
              1,
              "#f0f921"
             ]
            ],
            "type": "contour"
           }
          ],
          "contourcarpet": [
           {
            "colorbar": {
             "outlinewidth": 0,
             "ticks": ""
            },
            "type": "contourcarpet"
           }
          ],
          "heatmap": [
           {
            "colorbar": {
             "outlinewidth": 0,
             "ticks": ""
            },
            "colorscale": [
             [
              0,
              "#0d0887"
             ],
             [
              0.1111111111111111,
              "#46039f"
             ],
             [
              0.2222222222222222,
              "#7201a8"
             ],
             [
              0.3333333333333333,
              "#9c179e"
             ],
             [
              0.4444444444444444,
              "#bd3786"
             ],
             [
              0.5555555555555556,
              "#d8576b"
             ],
             [
              0.6666666666666666,
              "#ed7953"
             ],
             [
              0.7777777777777778,
              "#fb9f3a"
             ],
             [
              0.8888888888888888,
              "#fdca26"
             ],
             [
              1,
              "#f0f921"
             ]
            ],
            "type": "heatmap"
           }
          ],
          "heatmapgl": [
           {
            "colorbar": {
             "outlinewidth": 0,
             "ticks": ""
            },
            "colorscale": [
             [
              0,
              "#0d0887"
             ],
             [
              0.1111111111111111,
              "#46039f"
             ],
             [
              0.2222222222222222,
              "#7201a8"
             ],
             [
              0.3333333333333333,
              "#9c179e"
             ],
             [
              0.4444444444444444,
              "#bd3786"
             ],
             [
              0.5555555555555556,
              "#d8576b"
             ],
             [
              0.6666666666666666,
              "#ed7953"
             ],
             [
              0.7777777777777778,
              "#fb9f3a"
             ],
             [
              0.8888888888888888,
              "#fdca26"
             ],
             [
              1,
              "#f0f921"
             ]
            ],
            "type": "heatmapgl"
           }
          ],
          "histogram": [
           {
            "marker": {
             "pattern": {
              "fillmode": "overlay",
              "size": 10,
              "solidity": 0.2
             }
            },
            "type": "histogram"
           }
          ],
          "histogram2d": [
           {
            "colorbar": {
             "outlinewidth": 0,
             "ticks": ""
            },
            "colorscale": [
             [
              0,
              "#0d0887"
             ],
             [
              0.1111111111111111,
              "#46039f"
             ],
             [
              0.2222222222222222,
              "#7201a8"
             ],
             [
              0.3333333333333333,
              "#9c179e"
             ],
             [
              0.4444444444444444,
              "#bd3786"
             ],
             [
              0.5555555555555556,
              "#d8576b"
             ],
             [
              0.6666666666666666,
              "#ed7953"
             ],
             [
              0.7777777777777778,
              "#fb9f3a"
             ],
             [
              0.8888888888888888,
              "#fdca26"
             ],
             [
              1,
              "#f0f921"
             ]
            ],
            "type": "histogram2d"
           }
          ],
          "histogram2dcontour": [
           {
            "colorbar": {
             "outlinewidth": 0,
             "ticks": ""
            },
            "colorscale": [
             [
              0,
              "#0d0887"
             ],
             [
              0.1111111111111111,
              "#46039f"
             ],
             [
              0.2222222222222222,
              "#7201a8"
             ],
             [
              0.3333333333333333,
              "#9c179e"
             ],
             [
              0.4444444444444444,
              "#bd3786"
             ],
             [
              0.5555555555555556,
              "#d8576b"
             ],
             [
              0.6666666666666666,
              "#ed7953"
             ],
             [
              0.7777777777777778,
              "#fb9f3a"
             ],
             [
              0.8888888888888888,
              "#fdca26"
             ],
             [
              1,
              "#f0f921"
             ]
            ],
            "type": "histogram2dcontour"
           }
          ],
          "mesh3d": [
           {
            "colorbar": {
             "outlinewidth": 0,
             "ticks": ""
            },
            "type": "mesh3d"
           }
          ],
          "parcoords": [
           {
            "line": {
             "colorbar": {
              "outlinewidth": 0,
              "ticks": ""
             }
            },
            "type": "parcoords"
           }
          ],
          "pie": [
           {
            "automargin": true,
            "type": "pie"
           }
          ],
          "scatter": [
           {
            "fillpattern": {
             "fillmode": "overlay",
             "size": 10,
             "solidity": 0.2
            },
            "type": "scatter"
           }
          ],
          "scatter3d": [
           {
            "line": {
             "colorbar": {
              "outlinewidth": 0,
              "ticks": ""
             }
            },
            "marker": {
             "colorbar": {
              "outlinewidth": 0,
              "ticks": ""
             }
            },
            "type": "scatter3d"
           }
          ],
          "scattercarpet": [
           {
            "marker": {
             "colorbar": {
              "outlinewidth": 0,
              "ticks": ""
             }
            },
            "type": "scattercarpet"
           }
          ],
          "scattergeo": [
           {
            "marker": {
             "colorbar": {
              "outlinewidth": 0,
              "ticks": ""
             }
            },
            "type": "scattergeo"
           }
          ],
          "scattergl": [
           {
            "marker": {
             "colorbar": {
              "outlinewidth": 0,
              "ticks": ""
             }
            },
            "type": "scattergl"
           }
          ],
          "scattermapbox": [
           {
            "marker": {
             "colorbar": {
              "outlinewidth": 0,
              "ticks": ""
             }
            },
            "type": "scattermapbox"
           }
          ],
          "scatterpolar": [
           {
            "marker": {
             "colorbar": {
              "outlinewidth": 0,
              "ticks": ""
             }
            },
            "type": "scatterpolar"
           }
          ],
          "scatterpolargl": [
           {
            "marker": {
             "colorbar": {
              "outlinewidth": 0,
              "ticks": ""
             }
            },
            "type": "scatterpolargl"
           }
          ],
          "scatterternary": [
           {
            "marker": {
             "colorbar": {
              "outlinewidth": 0,
              "ticks": ""
             }
            },
            "type": "scatterternary"
           }
          ],
          "surface": [
           {
            "colorbar": {
             "outlinewidth": 0,
             "ticks": ""
            },
            "colorscale": [
             [
              0,
              "#0d0887"
             ],
             [
              0.1111111111111111,
              "#46039f"
             ],
             [
              0.2222222222222222,
              "#7201a8"
             ],
             [
              0.3333333333333333,
              "#9c179e"
             ],
             [
              0.4444444444444444,
              "#bd3786"
             ],
             [
              0.5555555555555556,
              "#d8576b"
             ],
             [
              0.6666666666666666,
              "#ed7953"
             ],
             [
              0.7777777777777778,
              "#fb9f3a"
             ],
             [
              0.8888888888888888,
              "#fdca26"
             ],
             [
              1,
              "#f0f921"
             ]
            ],
            "type": "surface"
           }
          ],
          "table": [
           {
            "cells": {
             "fill": {
              "color": "#EBF0F8"
             },
             "line": {
              "color": "white"
             }
            },
            "header": {
             "fill": {
              "color": "#C8D4E3"
             },
             "line": {
              "color": "white"
             }
            },
            "type": "table"
           }
          ]
         },
         "layout": {
          "annotationdefaults": {
           "arrowcolor": "#2a3f5f",
           "arrowhead": 0,
           "arrowwidth": 1
          },
          "autotypenumbers": "strict",
          "coloraxis": {
           "colorbar": {
            "outlinewidth": 0,
            "ticks": ""
           }
          },
          "colorscale": {
           "diverging": [
            [
             0,
             "#8e0152"
            ],
            [
             0.1,
             "#c51b7d"
            ],
            [
             0.2,
             "#de77ae"
            ],
            [
             0.3,
             "#f1b6da"
            ],
            [
             0.4,
             "#fde0ef"
            ],
            [
             0.5,
             "#f7f7f7"
            ],
            [
             0.6,
             "#e6f5d0"
            ],
            [
             0.7,
             "#b8e186"
            ],
            [
             0.8,
             "#7fbc41"
            ],
            [
             0.9,
             "#4d9221"
            ],
            [
             1,
             "#276419"
            ]
           ],
           "sequential": [
            [
             0,
             "#0d0887"
            ],
            [
             0.1111111111111111,
             "#46039f"
            ],
            [
             0.2222222222222222,
             "#7201a8"
            ],
            [
             0.3333333333333333,
             "#9c179e"
            ],
            [
             0.4444444444444444,
             "#bd3786"
            ],
            [
             0.5555555555555556,
             "#d8576b"
            ],
            [
             0.6666666666666666,
             "#ed7953"
            ],
            [
             0.7777777777777778,
             "#fb9f3a"
            ],
            [
             0.8888888888888888,
             "#fdca26"
            ],
            [
             1,
             "#f0f921"
            ]
           ],
           "sequentialminus": [
            [
             0,
             "#0d0887"
            ],
            [
             0.1111111111111111,
             "#46039f"
            ],
            [
             0.2222222222222222,
             "#7201a8"
            ],
            [
             0.3333333333333333,
             "#9c179e"
            ],
            [
             0.4444444444444444,
             "#bd3786"
            ],
            [
             0.5555555555555556,
             "#d8576b"
            ],
            [
             0.6666666666666666,
             "#ed7953"
            ],
            [
             0.7777777777777778,
             "#fb9f3a"
            ],
            [
             0.8888888888888888,
             "#fdca26"
            ],
            [
             1,
             "#f0f921"
            ]
           ]
          },
          "colorway": [
           "#636efa",
           "#EF553B",
           "#00cc96",
           "#ab63fa",
           "#FFA15A",
           "#19d3f3",
           "#FF6692",
           "#B6E880",
           "#FF97FF",
           "#FECB52"
          ],
          "font": {
           "color": "#2a3f5f"
          },
          "geo": {
           "bgcolor": "white",
           "lakecolor": "white",
           "landcolor": "#E5ECF6",
           "showlakes": true,
           "showland": true,
           "subunitcolor": "white"
          },
          "hoverlabel": {
           "align": "left"
          },
          "hovermode": "closest",
          "mapbox": {
           "style": "light"
          },
          "paper_bgcolor": "white",
          "plot_bgcolor": "#E5ECF6",
          "polar": {
           "angularaxis": {
            "gridcolor": "white",
            "linecolor": "white",
            "ticks": ""
           },
           "bgcolor": "#E5ECF6",
           "radialaxis": {
            "gridcolor": "white",
            "linecolor": "white",
            "ticks": ""
           }
          },
          "scene": {
           "xaxis": {
            "backgroundcolor": "#E5ECF6",
            "gridcolor": "white",
            "gridwidth": 2,
            "linecolor": "white",
            "showbackground": true,
            "ticks": "",
            "zerolinecolor": "white"
           },
           "yaxis": {
            "backgroundcolor": "#E5ECF6",
            "gridcolor": "white",
            "gridwidth": 2,
            "linecolor": "white",
            "showbackground": true,
            "ticks": "",
            "zerolinecolor": "white"
           },
           "zaxis": {
            "backgroundcolor": "#E5ECF6",
            "gridcolor": "white",
            "gridwidth": 2,
            "linecolor": "white",
            "showbackground": true,
            "ticks": "",
            "zerolinecolor": "white"
           }
          },
          "shapedefaults": {
           "line": {
            "color": "#2a3f5f"
           }
          },
          "ternary": {
           "aaxis": {
            "gridcolor": "white",
            "linecolor": "white",
            "ticks": ""
           },
           "baxis": {
            "gridcolor": "white",
            "linecolor": "white",
            "ticks": ""
           },
           "bgcolor": "#E5ECF6",
           "caxis": {
            "gridcolor": "white",
            "linecolor": "white",
            "ticks": ""
           }
          },
          "title": {
           "x": 0.05
          },
          "xaxis": {
           "automargin": true,
           "gridcolor": "white",
           "linecolor": "white",
           "ticks": "",
           "title": {
            "standoff": 15
           },
           "zerolinecolor": "white",
           "zerolinewidth": 2
          },
          "yaxis": {
           "automargin": true,
           "gridcolor": "white",
           "linecolor": "white",
           "ticks": "",
           "title": {
            "standoff": 15
           },
           "zerolinecolor": "white",
           "zerolinewidth": 2
          }
         }
        }
       }
      },
      "text/html": [
       "<div>                            <div id=\"6b3cf0db-95ae-47e0-8a62-1fcf177b3f68\" class=\"plotly-graph-div\" style=\"height:525px; width:100%;\"></div>            <script type=\"text/javascript\">                require([\"plotly\"], function(Plotly) {                    window.PLOTLYENV=window.PLOTLYENV || {};                                    if (document.getElementById(\"6b3cf0db-95ae-47e0-8a62-1fcf177b3f68\")) {                    Plotly.newPlot(                        \"6b3cf0db-95ae-47e0-8a62-1fcf177b3f68\",                        [{\"hovertemplate\":\"feature1=%{x}<br>feature2=%{y}<br>target=%{z}<extra></extra>\",\"legendgroup\":\"\",\"marker\":{\"color\":\"#636efa\",\"symbol\":\"circle\"},\"mode\":\"markers\",\"name\":\"\",\"scene\":\"scene\",\"showlegend\":false,\"x\":[0.9702379924702592,1.5433615812223807,0.8459143346493421,-0.8876495784524387,-2.113285275672615,-0.40071195352171024,0.5718229370095487,-0.8857342201354389,0.5453857096865975,-1.27500743500689,0.03349935339285893,-0.15768364104030871,0.18510679461508953,-0.5804832855058661,0.7687747706174065,-1.8490728073138483,-0.23160989416261574,-0.1761070828141838,-1.5882085374244352,0.1383535281724763,-0.4710653815789754,0.06769275545408494,-0.4389795157301932,-1.6253049894150677,-0.30781152818103014,0.09682715786832102,-2.2101755709885706,0.49356044614317857,-0.9656611128544924,1.2500706095173002,-1.3957232184808266,0.13884190550251965,1.2815684646297785,-1.29856937051068,0.005382047803512143,0.9551098821736718,0.6895818489687177,-0.35457992645750525,-0.48788511556457753,0.6021999766774896,-0.03942363931922909,3.004180258112118,0.4049396789531045,-0.1518693200380407,-1.1731518036155664,0.11932724818356506,-1.6581785435582341,0.8374078040169249,0.6768497147864629,0.2058817713744818,-0.3540205330248798,1.0616771356059065,0.8227939618624455,1.1068692635581432,-1.3851340631279228,-0.6098349535305282,-0.1390159794694083,-0.2403666412477221,0.4166390022325008,1.4767800296201268,-0.15281186135829333,-0.05818295760459455,-0.5678171304744687,0.5570583673419661,0.26369068453891925,0.7443063205446475,0.2730819440279613,-0.44505181004979205,0.05718148651269524,-1.272633880262574,-0.4730320170182742,-0.8364118631114149,1.2494507286685188,1.1413966146063257,-0.8679508108937407,-0.8797458294599911,1.6672032343561483,1.143702459962713,0.6819670958871177,-0.2873960540203412,-0.9008665577177111,0.4359464407609085,0.35870691509147057,0.7061080833549729,1.9195324834366587,-2.3928194147934754,-0.6723252933246269,0.7428396793880035,0.6286961390196588,0.6524549392363433,-1.1139023782493762,-2.148157127441554,-0.3527115706530105,0.5666697397789476,-0.17916789498196775,1.012720049863988,0.39765521133827925,-0.8252852004221252,0.25753235641182587,-0.868623774800671],\"y\":[-0.11441305014730874,-0.13824379964609423,1.2221114369663728,-1.2538113651669673,-1.1992624455844743,1.3475214174646604,0.29498919814069713,0.6861173687791929,0.09807274473626292,-0.2385008713807715,-1.404770210450859,-1.709567998675895,-0.6670139220239006,0.4175547406376275,1.2835061260853204,1.2214322218833917,0.13495585167166854,0.08319923400654514,-0.44079113708382806,-0.9576412317837558,0.6599882162139562,-0.5328646758707895,-0.12668056703733457,0.6944936357486629,1.0008049811316284,-0.22446425692296404,-0.30492697201475427,0.7959555785806727,0.4426828647603444,0.9161304087191907,0.243389158200308,-0.28816400226624905,0.508307123600646,-0.9315291177345624,-1.5388380078304897,1.1551308394396806,0.0389124782698011,0.27318691881588536,-0.7342156437057688,1.8578329672225065,1.0179640619962944,0.5094583496204147,-0.21748591347230697,0.020692868574572768,0.04583929866688389,-0.3165718740314881,-0.6094912685007408,-0.0014533831909909795,-0.25076943459068757,0.591698197430864,-1.3541050601391063,0.12299778177167486,-0.6235128521824489,-0.6453838451076134,0.536124994703549,1.126966546330526,-1.6896280484724058,2.0742287717196333,-0.6802353614381138,0.9922064489384671,0.18888419428288625,-0.17596047955659336,-0.17262183341008663,-1.6902988710612161,0.5016697697731489,0.7886603675687531,0.07927914188994378,0.3283800688543579,0.23278554097907475,1.4824677793772298,-0.5120638526202859,0.959694124166886,1.6256124026334307,0.771764456578379,0.5683650999978827,0.8388798816530338,1.788259755168395,1.4563251651506506,1.0813280868576975,-1.0487052730439728,0.7630929080671753,1.061207222483636,0.9494338043294139,0.6188714495122847,-0.3161044655885712,-0.38110221888600254,-1.271975570912163,-0.20019616840435414,2.6277121503252245,-0.21122697285302122,-1.2189720511642828,0.9951265785845175,-0.47812684575802433,0.08980450130976336,-1.1414557069447218,0.46891092162020176,0.09165739690377271,0.7641003236531835,-0.005040531890329803,0.4334991466775609],\"z\":[65.90734204341712,56.51078087190862,64.59588531581616,-35.355198693069525,-202.44858715740148,-90.47935027362435,33.400093202333196,-35.30984416274306,68.8154457908281,-84.36509691374424,-75.54474066944077,-68.41194121617286,29.906513307212474,21.388984703663347,78.6840719738336,-17.914138384918886,-7.6044687354286875,58.92265232720877,-159.2465805015383,-39.16227077672266,-58.08941156600705,9.037475390496745,-43.26095137851604,-106.27853517139016,57.35457027131692,17.223135898403243,-159.22780999118655,97.8231255701524,-65.39182034063711,119.40579725036898,-169.573133429096,6.203764920324485,126.65527309720153,-114.72474653772778,23.179447124301625,110.50446576170523,89.10253476448227,-43.536781156681045,-44.583948465315565,80.31525377327942,-37.145170873272576,256.1274643574599,59.596155178219874,-15.208684823924564,-80.41777493615366,-12.160051199325963,-153.89367010456164,-82.5890591467105,150.00910170362542,-10.732632839100845,-63.15093001571181,115.65996028286466,-24.87169577001972,23.142350493589888,-100.47924109812422,-16.059577284428457,-54.27439739499927,78.59607204065202,18.369555948701116,51.65760847959278,-63.43155950000755,-15.331978916439404,-22.649290045275077,85.49533679034114,-8.396460809710813,-3.1089553245685977,20.02777013477762,35.54981005914178,-121.0026055256799,-70.63607255944008,-104.23918193942474,-111.67408273557788,79.60679643512712,112.66680405552663,-91.07831417137763,-68.03605027530759,146.3851480619604,152.31997651165645,94.35974527056125,-126.38190261981016,-7.595720523209614,55.68364549914557,123.29720373292919,164.923077753979,187.28148312651092,-246.61752903382842,-77.31043557311638,23.260129747064866,134.70974697798903,24.338409987357302,-111.94498268027675,-192.7910212897164,16.3287976602385,138.50423670174536,-91.46498451612274,44.48796288536894,70.58864168661651,-12.367420882633041,-13.670195042588002,-63.30043383789165],\"type\":\"scatter3d\"},{\"x\":[-5.0,-3.888888888888889,-2.7777777777777777,-1.6666666666666665,-0.5555555555555554,0.5555555555555554,1.666666666666667,2.7777777777777786,3.8888888888888893,5.0],\"y\":[-5.0,-3.888888888888889,-2.7777777777777777,-1.6666666666666665,-0.5555555555555554,0.5555555555555554,1.666666666666667,2.7777777777777786,3.8888888888888893,5.0],\"z\":[[-517.4385780289045,-429.4986037865468,-341.5586295441891,-253.61865530183144,-165.67868105947372,-77.73870681711608,10.201267425241639,98.14124166759939,186.08121590995705,274.0211901523147],[-490.48643939592387,-402.54646515356615,-314.6064909112085,-226.66651666885076,-138.7265424264931,-50.78656818413543,37.15340605822229,125.09338030058004,213.03335454293773,300.9733287852954],[-463.53430076294325,-375.5943265205855,-287.6543522782278,-199.71437803587014,-111.77440379351245,-23.83442955115478,64.10554469120294,152.0455189335607,239.98549317591835,327.925467418276],[-436.58216212996257,-348.64218788760485,-260.7022136452472,-172.76223940288946,-84.8222651605318,3.1177090818258684,91.05768332418359,178.99765756654136,266.937631808899,354.8776060512567],[-409.63002349698195,-321.6900492546242,-233.7500750122665,-145.81010076990884,-57.87012652755114,30.069847714806517,118.00982195716423,205.94979619952198,293.88977044187965,381.8297446842373],[-382.67788486400127,-294.73791062164355,-206.7979363792859,-118.8579621369282,-30.917987894570505,57.021986347787156,144.96196059014488,232.9019348325026,320.8419090748603,408.781883317218],[-355.72574623102065,-267.78577198866293,-179.8457977463052,-91.90582350394753,-3.9658492615898453,83.97412498076783,171.91409922312556,259.8540734654833,347.79404770784095,435.7340219501986],[-328.77360759804,-240.83363335568225,-152.8936591133246,-64.95368487096688,22.986289371390814,110.92626361374847,198.86623785610618,286.80621209846396,374.7461863408216,462.6861605831793],[-301.82146896505935,-213.88149472270163,-125.94152048034393,-38.00154623798624,49.93842800437145,137.87840224672914,225.81837648908686,313.7583507314446,401.69832497380224,489.6382992161599],[-274.8693303320787,-186.92935608972095,-98.98938184736329,-11.049407605005598,76.8905666373521,164.83054087970976,252.77051512206748,340.71048936442526,428.6504636067829,516.5904378491406]],\"type\":\"surface\"}],                        {\"template\":{\"data\":{\"histogram2dcontour\":[{\"type\":\"histogram2dcontour\",\"colorbar\":{\"outlinewidth\":0,\"ticks\":\"\"},\"colorscale\":[[0.0,\"#0d0887\"],[0.1111111111111111,\"#46039f\"],[0.2222222222222222,\"#7201a8\"],[0.3333333333333333,\"#9c179e\"],[0.4444444444444444,\"#bd3786\"],[0.5555555555555556,\"#d8576b\"],[0.6666666666666666,\"#ed7953\"],[0.7777777777777778,\"#fb9f3a\"],[0.8888888888888888,\"#fdca26\"],[1.0,\"#f0f921\"]]}],\"choropleth\":[{\"type\":\"choropleth\",\"colorbar\":{\"outlinewidth\":0,\"ticks\":\"\"}}],\"histogram2d\":[{\"type\":\"histogram2d\",\"colorbar\":{\"outlinewidth\":0,\"ticks\":\"\"},\"colorscale\":[[0.0,\"#0d0887\"],[0.1111111111111111,\"#46039f\"],[0.2222222222222222,\"#7201a8\"],[0.3333333333333333,\"#9c179e\"],[0.4444444444444444,\"#bd3786\"],[0.5555555555555556,\"#d8576b\"],[0.6666666666666666,\"#ed7953\"],[0.7777777777777778,\"#fb9f3a\"],[0.8888888888888888,\"#fdca26\"],[1.0,\"#f0f921\"]]}],\"heatmap\":[{\"type\":\"heatmap\",\"colorbar\":{\"outlinewidth\":0,\"ticks\":\"\"},\"colorscale\":[[0.0,\"#0d0887\"],[0.1111111111111111,\"#46039f\"],[0.2222222222222222,\"#7201a8\"],[0.3333333333333333,\"#9c179e\"],[0.4444444444444444,\"#bd3786\"],[0.5555555555555556,\"#d8576b\"],[0.6666666666666666,\"#ed7953\"],[0.7777777777777778,\"#fb9f3a\"],[0.8888888888888888,\"#fdca26\"],[1.0,\"#f0f921\"]]}],\"heatmapgl\":[{\"type\":\"heatmapgl\",\"colorbar\":{\"outlinewidth\":0,\"ticks\":\"\"},\"colorscale\":[[0.0,\"#0d0887\"],[0.1111111111111111,\"#46039f\"],[0.2222222222222222,\"#7201a8\"],[0.3333333333333333,\"#9c179e\"],[0.4444444444444444,\"#bd3786\"],[0.5555555555555556,\"#d8576b\"],[0.6666666666666666,\"#ed7953\"],[0.7777777777777778,\"#fb9f3a\"],[0.8888888888888888,\"#fdca26\"],[1.0,\"#f0f921\"]]}],\"contourcarpet\":[{\"type\":\"contourcarpet\",\"colorbar\":{\"outlinewidth\":0,\"ticks\":\"\"}}],\"contour\":[{\"type\":\"contour\",\"colorbar\":{\"outlinewidth\":0,\"ticks\":\"\"},\"colorscale\":[[0.0,\"#0d0887\"],[0.1111111111111111,\"#46039f\"],[0.2222222222222222,\"#7201a8\"],[0.3333333333333333,\"#9c179e\"],[0.4444444444444444,\"#bd3786\"],[0.5555555555555556,\"#d8576b\"],[0.6666666666666666,\"#ed7953\"],[0.7777777777777778,\"#fb9f3a\"],[0.8888888888888888,\"#fdca26\"],[1.0,\"#f0f921\"]]}],\"surface\":[{\"type\":\"surface\",\"colorbar\":{\"outlinewidth\":0,\"ticks\":\"\"},\"colorscale\":[[0.0,\"#0d0887\"],[0.1111111111111111,\"#46039f\"],[0.2222222222222222,\"#7201a8\"],[0.3333333333333333,\"#9c179e\"],[0.4444444444444444,\"#bd3786\"],[0.5555555555555556,\"#d8576b\"],[0.6666666666666666,\"#ed7953\"],[0.7777777777777778,\"#fb9f3a\"],[0.8888888888888888,\"#fdca26\"],[1.0,\"#f0f921\"]]}],\"mesh3d\":[{\"type\":\"mesh3d\",\"colorbar\":{\"outlinewidth\":0,\"ticks\":\"\"}}],\"scatter\":[{\"fillpattern\":{\"fillmode\":\"overlay\",\"size\":10,\"solidity\":0.2},\"type\":\"scatter\"}],\"parcoords\":[{\"type\":\"parcoords\",\"line\":{\"colorbar\":{\"outlinewidth\":0,\"ticks\":\"\"}}}],\"scatterpolargl\":[{\"type\":\"scatterpolargl\",\"marker\":{\"colorbar\":{\"outlinewidth\":0,\"ticks\":\"\"}}}],\"bar\":[{\"error_x\":{\"color\":\"#2a3f5f\"},\"error_y\":{\"color\":\"#2a3f5f\"},\"marker\":{\"line\":{\"color\":\"#E5ECF6\",\"width\":0.5},\"pattern\":{\"fillmode\":\"overlay\",\"size\":10,\"solidity\":0.2}},\"type\":\"bar\"}],\"scattergeo\":[{\"type\":\"scattergeo\",\"marker\":{\"colorbar\":{\"outlinewidth\":0,\"ticks\":\"\"}}}],\"scatterpolar\":[{\"type\":\"scatterpolar\",\"marker\":{\"colorbar\":{\"outlinewidth\":0,\"ticks\":\"\"}}}],\"histogram\":[{\"marker\":{\"pattern\":{\"fillmode\":\"overlay\",\"size\":10,\"solidity\":0.2}},\"type\":\"histogram\"}],\"scattergl\":[{\"type\":\"scattergl\",\"marker\":{\"colorbar\":{\"outlinewidth\":0,\"ticks\":\"\"}}}],\"scatter3d\":[{\"type\":\"scatter3d\",\"line\":{\"colorbar\":{\"outlinewidth\":0,\"ticks\":\"\"}},\"marker\":{\"colorbar\":{\"outlinewidth\":0,\"ticks\":\"\"}}}],\"scattermapbox\":[{\"type\":\"scattermapbox\",\"marker\":{\"colorbar\":{\"outlinewidth\":0,\"ticks\":\"\"}}}],\"scatterternary\":[{\"type\":\"scatterternary\",\"marker\":{\"colorbar\":{\"outlinewidth\":0,\"ticks\":\"\"}}}],\"scattercarpet\":[{\"type\":\"scattercarpet\",\"marker\":{\"colorbar\":{\"outlinewidth\":0,\"ticks\":\"\"}}}],\"carpet\":[{\"aaxis\":{\"endlinecolor\":\"#2a3f5f\",\"gridcolor\":\"white\",\"linecolor\":\"white\",\"minorgridcolor\":\"white\",\"startlinecolor\":\"#2a3f5f\"},\"baxis\":{\"endlinecolor\":\"#2a3f5f\",\"gridcolor\":\"white\",\"linecolor\":\"white\",\"minorgridcolor\":\"white\",\"startlinecolor\":\"#2a3f5f\"},\"type\":\"carpet\"}],\"table\":[{\"cells\":{\"fill\":{\"color\":\"#EBF0F8\"},\"line\":{\"color\":\"white\"}},\"header\":{\"fill\":{\"color\":\"#C8D4E3\"},\"line\":{\"color\":\"white\"}},\"type\":\"table\"}],\"barpolar\":[{\"marker\":{\"line\":{\"color\":\"#E5ECF6\",\"width\":0.5},\"pattern\":{\"fillmode\":\"overlay\",\"size\":10,\"solidity\":0.2}},\"type\":\"barpolar\"}],\"pie\":[{\"automargin\":true,\"type\":\"pie\"}]},\"layout\":{\"autotypenumbers\":\"strict\",\"colorway\":[\"#636efa\",\"#EF553B\",\"#00cc96\",\"#ab63fa\",\"#FFA15A\",\"#19d3f3\",\"#FF6692\",\"#B6E880\",\"#FF97FF\",\"#FECB52\"],\"font\":{\"color\":\"#2a3f5f\"},\"hovermode\":\"closest\",\"hoverlabel\":{\"align\":\"left\"},\"paper_bgcolor\":\"white\",\"plot_bgcolor\":\"#E5ECF6\",\"polar\":{\"bgcolor\":\"#E5ECF6\",\"angularaxis\":{\"gridcolor\":\"white\",\"linecolor\":\"white\",\"ticks\":\"\"},\"radialaxis\":{\"gridcolor\":\"white\",\"linecolor\":\"white\",\"ticks\":\"\"}},\"ternary\":{\"bgcolor\":\"#E5ECF6\",\"aaxis\":{\"gridcolor\":\"white\",\"linecolor\":\"white\",\"ticks\":\"\"},\"baxis\":{\"gridcolor\":\"white\",\"linecolor\":\"white\",\"ticks\":\"\"},\"caxis\":{\"gridcolor\":\"white\",\"linecolor\":\"white\",\"ticks\":\"\"}},\"coloraxis\":{\"colorbar\":{\"outlinewidth\":0,\"ticks\":\"\"}},\"colorscale\":{\"sequential\":[[0.0,\"#0d0887\"],[0.1111111111111111,\"#46039f\"],[0.2222222222222222,\"#7201a8\"],[0.3333333333333333,\"#9c179e\"],[0.4444444444444444,\"#bd3786\"],[0.5555555555555556,\"#d8576b\"],[0.6666666666666666,\"#ed7953\"],[0.7777777777777778,\"#fb9f3a\"],[0.8888888888888888,\"#fdca26\"],[1.0,\"#f0f921\"]],\"sequentialminus\":[[0.0,\"#0d0887\"],[0.1111111111111111,\"#46039f\"],[0.2222222222222222,\"#7201a8\"],[0.3333333333333333,\"#9c179e\"],[0.4444444444444444,\"#bd3786\"],[0.5555555555555556,\"#d8576b\"],[0.6666666666666666,\"#ed7953\"],[0.7777777777777778,\"#fb9f3a\"],[0.8888888888888888,\"#fdca26\"],[1.0,\"#f0f921\"]],\"diverging\":[[0,\"#8e0152\"],[0.1,\"#c51b7d\"],[0.2,\"#de77ae\"],[0.3,\"#f1b6da\"],[0.4,\"#fde0ef\"],[0.5,\"#f7f7f7\"],[0.6,\"#e6f5d0\"],[0.7,\"#b8e186\"],[0.8,\"#7fbc41\"],[0.9,\"#4d9221\"],[1,\"#276419\"]]},\"xaxis\":{\"gridcolor\":\"white\",\"linecolor\":\"white\",\"ticks\":\"\",\"title\":{\"standoff\":15},\"zerolinecolor\":\"white\",\"automargin\":true,\"zerolinewidth\":2},\"yaxis\":{\"gridcolor\":\"white\",\"linecolor\":\"white\",\"ticks\":\"\",\"title\":{\"standoff\":15},\"zerolinecolor\":\"white\",\"automargin\":true,\"zerolinewidth\":2},\"scene\":{\"xaxis\":{\"backgroundcolor\":\"#E5ECF6\",\"gridcolor\":\"white\",\"linecolor\":\"white\",\"showbackground\":true,\"ticks\":\"\",\"zerolinecolor\":\"white\",\"gridwidth\":2},\"yaxis\":{\"backgroundcolor\":\"#E5ECF6\",\"gridcolor\":\"white\",\"linecolor\":\"white\",\"showbackground\":true,\"ticks\":\"\",\"zerolinecolor\":\"white\",\"gridwidth\":2},\"zaxis\":{\"backgroundcolor\":\"#E5ECF6\",\"gridcolor\":\"white\",\"linecolor\":\"white\",\"showbackground\":true,\"ticks\":\"\",\"zerolinecolor\":\"white\",\"gridwidth\":2}},\"shapedefaults\":{\"line\":{\"color\":\"#2a3f5f\"}},\"annotationdefaults\":{\"arrowcolor\":\"#2a3f5f\",\"arrowhead\":0,\"arrowwidth\":1},\"geo\":{\"bgcolor\":\"white\",\"landcolor\":\"#E5ECF6\",\"subunitcolor\":\"white\",\"showland\":true,\"showlakes\":true,\"lakecolor\":\"white\"},\"title\":{\"x\":0.05},\"mapbox\":{\"style\":\"light\"}}},\"scene\":{\"domain\":{\"x\":[0.0,1.0],\"y\":[0.0,1.0]},\"xaxis\":{\"title\":{\"text\":\"feature1\"}},\"yaxis\":{\"title\":{\"text\":\"feature2\"}},\"zaxis\":{\"title\":{\"text\":\"target\"}}},\"legend\":{\"tracegroupgap\":0},\"margin\":{\"t\":60}},                        {\"responsive\": true}                    ).then(function(){\n",
       "                            \n",
       "var gd = document.getElementById('6b3cf0db-95ae-47e0-8a62-1fcf177b3f68');\n",
       "var x = new MutationObserver(function (mutations, observer) {{\n",
       "        var display = window.getComputedStyle(gd).display;\n",
       "        if (!display || display === 'none') {{\n",
       "            console.log([gd, 'removed!']);\n",
       "            Plotly.purge(gd);\n",
       "            observer.disconnect();\n",
       "        }}\n",
       "}});\n",
       "\n",
       "// Listen for the removal of the full notebook cells\n",
       "var notebookContainer = gd.closest('#notebook-container');\n",
       "if (notebookContainer) {{\n",
       "    x.observe(notebookContainer, {childList: true});\n",
       "}}\n",
       "\n",
       "// Listen for the clearing of the current output cell\n",
       "var outputEl = gd.closest('.output');\n",
       "if (outputEl) {{\n",
       "    x.observe(outputEl, {childList: true});\n",
       "}}\n",
       "\n",
       "                        })                };                });            </script>        </div>"
      ]
     },
     "metadata": {},
     "output_type": "display_data"
    }
   ],
   "source": [
    "fig = px.scatter_3d(df, x = 'feature1', y = 'feature2', z= \"target\")\n",
    "fig.add_trace(go.Surface(x = x , y = y , z = z))\n",
    "fig.show()"
   ]
  },
  {
   "cell_type": "code",
   "execution_count": 151,
   "id": "c62ee60f",
   "metadata": {},
   "outputs": [
    {
     "data": {
      "text/plain": [
       "array([79.14597682, 24.25692477])"
      ]
     },
     "execution_count": 151,
     "metadata": {},
     "output_type": "execute_result"
    }
   ],
   "source": [
    "clf.coef_ # this is b1, b2"
   ]
  },
  {
   "cell_type": "code",
   "execution_count": 152,
   "id": "9ca89e32",
   "metadata": {},
   "outputs": [
    {
     "data": {
      "text/plain": [
       "-0.4240700898819938"
      ]
     },
     "execution_count": 152,
     "metadata": {},
     "output_type": "execute_result"
    }
   ],
   "source": [
    "clf.intercept_ # this is b0"
   ]
  },
  {
   "cell_type": "code",
   "execution_count": 153,
   "id": "d2bd23bb",
   "metadata": {},
   "outputs": [],
   "source": [
    "## making our own linear regression"
   ]
  },
  {
   "cell_type": "code",
   "execution_count": 190,
   "id": "1de5f351",
   "metadata": {},
   "outputs": [],
   "source": [
    "import numpy as np\n",
    "import sklearn\n",
    "from sklearn.datasets import load_diabetes"
   ]
  },
  {
   "cell_type": "code",
   "execution_count": 195,
   "id": "1639677b",
   "metadata": {},
   "outputs": [],
   "source": [
    "#lr = pd.read_csv(\"diabetes.csv\")\n",
    "x, y = sklearn.datasets.load_diabetes( return_X_y=True)"
   ]
  },
  {
   "cell_type": "code",
   "execution_count": 197,
   "id": "e6bd20bf",
   "metadata": {},
   "outputs": [
    {
     "data": {
      "text/plain": [
       "(442,)"
      ]
     },
     "execution_count": 197,
     "metadata": {},
     "output_type": "execute_result"
    }
   ],
   "source": [
    "y.shape"
   ]
  },
  {
   "cell_type": "code",
   "execution_count": 196,
   "id": "52abe107",
   "metadata": {},
   "outputs": [
    {
     "data": {
      "text/plain": [
       "(442, 10)"
      ]
     },
     "execution_count": 196,
     "metadata": {},
     "output_type": "execute_result"
    }
   ],
   "source": [
    "x.shape"
   ]
  },
  {
   "cell_type": "code",
   "execution_count": null,
   "id": "a75b3184",
   "metadata": {},
   "outputs": [],
   "source": []
  },
  {
   "cell_type": "code",
   "execution_count": 198,
   "id": "b6d301e6",
   "metadata": {},
   "outputs": [],
   "source": [
    "# using  sklearn linear regression"
   ]
  },
  {
   "cell_type": "code",
   "execution_count": 199,
   "id": "af079d68",
   "metadata": {},
   "outputs": [],
   "source": [
    "from sklearn.model_selection import train_test_split\n",
    "x_train, x_test, y_train, y_test = train_test_split(x,y, test_size = 0.2, random_state = 2)"
   ]
  },
  {
   "cell_type": "code",
   "execution_count": 200,
   "id": "0650c9ac",
   "metadata": {},
   "outputs": [
    {
     "name": "stdout",
     "output_type": "stream",
     "text": [
      "(89, 10)\n",
      "(353, 10)\n"
     ]
    }
   ],
   "source": [
    "print(x_test.shape)\n",
    "print(x_train.shape)\n"
   ]
  },
  {
   "cell_type": "code",
   "execution_count": 201,
   "id": "5e6d3562",
   "metadata": {},
   "outputs": [
    {
     "data": {
      "text/html": [
       "<style>#sk-container-id-7 {color: black;background-color: white;}#sk-container-id-7 pre{padding: 0;}#sk-container-id-7 div.sk-toggleable {background-color: white;}#sk-container-id-7 label.sk-toggleable__label {cursor: pointer;display: block;width: 100%;margin-bottom: 0;padding: 0.3em;box-sizing: border-box;text-align: center;}#sk-container-id-7 label.sk-toggleable__label-arrow:before {content: \"▸\";float: left;margin-right: 0.25em;color: #696969;}#sk-container-id-7 label.sk-toggleable__label-arrow:hover:before {color: black;}#sk-container-id-7 div.sk-estimator:hover label.sk-toggleable__label-arrow:before {color: black;}#sk-container-id-7 div.sk-toggleable__content {max-height: 0;max-width: 0;overflow: hidden;text-align: left;background-color: #f0f8ff;}#sk-container-id-7 div.sk-toggleable__content pre {margin: 0.2em;color: black;border-radius: 0.25em;background-color: #f0f8ff;}#sk-container-id-7 input.sk-toggleable__control:checked~div.sk-toggleable__content {max-height: 200px;max-width: 100%;overflow: auto;}#sk-container-id-7 input.sk-toggleable__control:checked~label.sk-toggleable__label-arrow:before {content: \"▾\";}#sk-container-id-7 div.sk-estimator input.sk-toggleable__control:checked~label.sk-toggleable__label {background-color: #d4ebff;}#sk-container-id-7 div.sk-label input.sk-toggleable__control:checked~label.sk-toggleable__label {background-color: #d4ebff;}#sk-container-id-7 input.sk-hidden--visually {border: 0;clip: rect(1px 1px 1px 1px);clip: rect(1px, 1px, 1px, 1px);height: 1px;margin: -1px;overflow: hidden;padding: 0;position: absolute;width: 1px;}#sk-container-id-7 div.sk-estimator {font-family: monospace;background-color: #f0f8ff;border: 1px dotted black;border-radius: 0.25em;box-sizing: border-box;margin-bottom: 0.5em;}#sk-container-id-7 div.sk-estimator:hover {background-color: #d4ebff;}#sk-container-id-7 div.sk-parallel-item::after {content: \"\";width: 100%;border-bottom: 1px solid gray;flex-grow: 1;}#sk-container-id-7 div.sk-label:hover label.sk-toggleable__label {background-color: #d4ebff;}#sk-container-id-7 div.sk-serial::before {content: \"\";position: absolute;border-left: 1px solid gray;box-sizing: border-box;top: 0;bottom: 0;left: 50%;z-index: 0;}#sk-container-id-7 div.sk-serial {display: flex;flex-direction: column;align-items: center;background-color: white;padding-right: 0.2em;padding-left: 0.2em;position: relative;}#sk-container-id-7 div.sk-item {position: relative;z-index: 1;}#sk-container-id-7 div.sk-parallel {display: flex;align-items: stretch;justify-content: center;background-color: white;position: relative;}#sk-container-id-7 div.sk-item::before, #sk-container-id-7 div.sk-parallel-item::before {content: \"\";position: absolute;border-left: 1px solid gray;box-sizing: border-box;top: 0;bottom: 0;left: 50%;z-index: -1;}#sk-container-id-7 div.sk-parallel-item {display: flex;flex-direction: column;z-index: 1;position: relative;background-color: white;}#sk-container-id-7 div.sk-parallel-item:first-child::after {align-self: flex-end;width: 50%;}#sk-container-id-7 div.sk-parallel-item:last-child::after {align-self: flex-start;width: 50%;}#sk-container-id-7 div.sk-parallel-item:only-child::after {width: 0;}#sk-container-id-7 div.sk-dashed-wrapped {border: 1px dashed gray;margin: 0 0.4em 0.5em 0.4em;box-sizing: border-box;padding-bottom: 0.4em;background-color: white;}#sk-container-id-7 div.sk-label label {font-family: monospace;font-weight: bold;display: inline-block;line-height: 1.2em;}#sk-container-id-7 div.sk-label-container {text-align: center;}#sk-container-id-7 div.sk-container {/* jupyter's `normalize.less` sets `[hidden] { display: none; }` but bootstrap.min.css set `[hidden] { display: none !important; }` so we also need the `!important` here to be able to override the default hidden behavior on the sphinx rendered scikit-learn.org. See: https://github.com/scikit-learn/scikit-learn/issues/21755 */display: inline-block !important;position: relative;}#sk-container-id-7 div.sk-text-repr-fallback {display: none;}</style><div id=\"sk-container-id-7\" class=\"sk-top-container\"><div class=\"sk-text-repr-fallback\"><pre>LinearRegression()</pre><b>In a Jupyter environment, please rerun this cell to show the HTML representation or trust the notebook. <br />On GitHub, the HTML representation is unable to render, please try loading this page with nbviewer.org.</b></div><div class=\"sk-container\" hidden><div class=\"sk-item\"><div class=\"sk-estimator sk-toggleable\"><input class=\"sk-toggleable__control sk-hidden--visually\" id=\"sk-estimator-id-7\" type=\"checkbox\" checked><label for=\"sk-estimator-id-7\" class=\"sk-toggleable__label sk-toggleable__label-arrow\">LinearRegression</label><div class=\"sk-toggleable__content\"><pre>LinearRegression()</pre></div></div></div></div></div>"
      ],
      "text/plain": [
       "LinearRegression()"
      ]
     },
     "execution_count": 201,
     "metadata": {},
     "output_type": "execute_result"
    }
   ],
   "source": [
    "from sklearn.linear_model import LinearRegression\n",
    "reg = LinearRegression()\n",
    "reg.fit(x_train,y_train)\n"
   ]
  },
  {
   "cell_type": "code",
   "execution_count": 202,
   "id": "af8f219c",
   "metadata": {},
   "outputs": [],
   "source": [
    "from sklearn.metrics import mean_absolute_error, mean_squared_error, r2_score"
   ]
  },
  {
   "cell_type": "code",
   "execution_count": 204,
   "id": "f4dd7c35",
   "metadata": {},
   "outputs": [],
   "source": [
    "y_pred = reg.predict(x_test)"
   ]
  },
  {
   "cell_type": "code",
   "execution_count": null,
   "id": "cf1ca8b0",
   "metadata": {},
   "outputs": [],
   "source": []
  },
  {
   "cell_type": "code",
   "execution_count": null,
   "id": "23295725",
   "metadata": {},
   "outputs": [],
   "source": []
  },
  {
   "cell_type": "code",
   "execution_count": 205,
   "id": "4c3fd84f",
   "metadata": {},
   "outputs": [
    {
     "data": {
      "text/plain": [
       "0.4399338661568968"
      ]
     },
     "execution_count": 205,
     "metadata": {},
     "output_type": "execute_result"
    }
   ],
   "source": [
    "r2_score(y_test , y_pred)"
   ]
  },
  {
   "cell_type": "code",
   "execution_count": 206,
   "id": "a8e7a35d",
   "metadata": {},
   "outputs": [
    {
     "data": {
      "text/plain": [
       "array([  -9.15865318, -205.45432163,  516.69374454,  340.61999905,\n",
       "       -895.5520019 ,  561.22067904,  153.89310954,  126.73139688,\n",
       "        861.12700152,   52.42112238])"
      ]
     },
     "execution_count": 206,
     "metadata": {},
     "output_type": "execute_result"
    }
   ],
   "source": [
    "reg.coef_"
   ]
  },
  {
   "cell_type": "raw",
   "id": "9ad809d4",
   "metadata": {},
   "source": [
    "reg.intercept_"
   ]
  },
  {
   "cell_type": "code",
   "execution_count": 207,
   "id": "46670117",
   "metadata": {},
   "outputs": [
    {
     "data": {
      "text/plain": [
       "151.88331005254167"
      ]
     },
     "execution_count": 207,
     "metadata": {},
     "output_type": "execute_result"
    }
   ],
   "source": [
    "reg.intercept_\n",
    "\n",
    "## making our own linear regression"
   ]
  },
  {
   "cell_type": "code",
   "execution_count": null,
   "id": "310f15f6",
   "metadata": {},
   "outputs": [],
   "source": []
  },
  {
   "cell_type": "code",
   "execution_count": 228,
   "id": "55ef182d",
   "metadata": {},
   "outputs": [],
   "source": [
    "class Maralr:\n",
    "    def _init_(self):\n",
    "        self.coef_ = None\n",
    "        self.intercept_ = None \n",
    "        \n",
    "        \n",
    "    \n",
    "    def fit(self, x_train, Y_train):\n",
    "       # print(x_train.shape)\n",
    "       x_train =  np.insert(x_train, 0,1, axis = 1) # inserting values at a column\n",
    "    \n",
    "       # calcuate the coeffs\n",
    "       betas = np.linalg.inv(np.dot(x_train.T , x_train)).dot(x_train.T).dot(y_train)\n",
    "       print (betas)\n",
    "       self.intercept_ = betas[0]\n",
    "       self.coef_ = betas[1:]\n",
    "       \n",
    "        \n",
    "    def predict(self, x_test):\n",
    "        \n",
    "       y_pred = np.dot(x_test, self.coef_) + self.intercept_\n",
    "       return y_pred"
   ]
  },
  {
   "cell_type": "code",
   "execution_count": 229,
   "id": "83ae8a92",
   "metadata": {},
   "outputs": [
    {
     "data": {
      "text/plain": [
       "array([[-0.00188202, -0.04464164, -0.06979687, ..., -0.03949338,\n",
       "        -0.06291688,  0.04034337],\n",
       "       [-0.00914709, -0.04464164,  0.01103904, ..., -0.03949338,\n",
       "         0.01703607, -0.0052198 ],\n",
       "       [ 0.02354575,  0.05068012, -0.02021751, ..., -0.03949338,\n",
       "        -0.09643495, -0.01764613],\n",
       "       ...,\n",
       "       [ 0.06350368,  0.05068012, -0.00405033, ..., -0.00259226,\n",
       "         0.08449153, -0.01764613],\n",
       "       [-0.05273755,  0.05068012, -0.01806189, ...,  0.1081111 ,\n",
       "         0.03606033, -0.04249877],\n",
       "       [ 0.00175052,  0.05068012,  0.05954058, ...,  0.1081111 ,\n",
       "         0.06898589,  0.12732762]])"
      ]
     },
     "execution_count": 229,
     "metadata": {},
     "output_type": "execute_result"
    }
   ],
   "source": [
    "x_train"
   ]
  },
  {
   "cell_type": "code",
   "execution_count": 230,
   "id": "3f328e1b",
   "metadata": {},
   "outputs": [
    {
     "data": {
      "text/plain": [
       "(353, 10)"
      ]
     },
     "execution_count": 230,
     "metadata": {},
     "output_type": "execute_result"
    }
   ],
   "source": [
    "x_train.shape"
   ]
  },
  {
   "cell_type": "code",
   "execution_count": 231,
   "id": "86de026d",
   "metadata": {},
   "outputs": [
    {
     "data": {
      "text/plain": [
       "array([[ 1.        , -0.00188202, -0.04464164, ..., -0.03949338,\n",
       "        -0.06291688,  0.04034337],\n",
       "       [ 1.        , -0.00914709, -0.04464164, ..., -0.03949338,\n",
       "         0.01703607, -0.0052198 ],\n",
       "       [ 1.        ,  0.02354575,  0.05068012, ..., -0.03949338,\n",
       "        -0.09643495, -0.01764613],\n",
       "       ...,\n",
       "       [ 1.        ,  0.06350368,  0.05068012, ..., -0.00259226,\n",
       "         0.08449153, -0.01764613],\n",
       "       [ 1.        , -0.05273755,  0.05068012, ...,  0.1081111 ,\n",
       "         0.03606033, -0.04249877],\n",
       "       [ 1.        ,  0.00175052,  0.05068012, ...,  0.1081111 ,\n",
       "         0.06898589,  0.12732762]])"
      ]
     },
     "execution_count": 231,
     "metadata": {},
     "output_type": "execute_result"
    }
   ],
   "source": [
    " np.insert(x_train, 0,1, axis = 1)  # this add one in every code \n",
    "    \n",
    "    \n",
    "    "
   ]
  },
  {
   "cell_type": "code",
   "execution_count": 232,
   "id": "dd266cc5",
   "metadata": {},
   "outputs": [
    {
     "data": {
      "text/plain": [
       "(353, 11)"
      ]
     },
     "execution_count": 232,
     "metadata": {},
     "output_type": "execute_result"
    }
   ],
   "source": [
    " np.insert(x_train, 0,1, axis = 1).shape"
   ]
  },
  {
   "cell_type": "code",
   "execution_count": 233,
   "id": "d0a71adc",
   "metadata": {},
   "outputs": [],
   "source": [
    "lr = Maralr()\n"
   ]
  },
  {
   "cell_type": "code",
   "execution_count": null,
   "id": "a083def0",
   "metadata": {},
   "outputs": [],
   "source": []
  },
  {
   "cell_type": "code",
   "execution_count": 235,
   "id": "92496881",
   "metadata": {},
   "outputs": [
    {
     "name": "stdout",
     "output_type": "stream",
     "text": [
      "[ 151.88331005   -9.15865318 -205.45432163  516.69374454  340.61999905\n",
      " -895.5520019   561.22067904  153.89310954  126.73139688  861.12700152\n",
      "   52.42112238]\n"
     ]
    }
   ],
   "source": [
    "lr.fit(x_train, y_train)"
   ]
  },
  {
   "cell_type": "code",
   "execution_count": null,
   "id": "4b738038",
   "metadata": {},
   "outputs": [],
   "source": []
  },
  {
   "cell_type": "code",
   "execution_count": null,
   "id": "783430ca",
   "metadata": {},
   "outputs": [],
   "source": []
  },
  {
   "cell_type": "code",
   "execution_count": null,
   "id": "1678d971",
   "metadata": {},
   "outputs": [],
   "source": []
  },
  {
   "cell_type": "code",
   "execution_count": 236,
   "id": "86aef53d",
   "metadata": {},
   "outputs": [],
   "source": [
    "y_pred = lr.predict(x_test)"
   ]
  },
  {
   "cell_type": "code",
   "execution_count": 237,
   "id": "1d2db268",
   "metadata": {},
   "outputs": [
    {
     "data": {
      "text/plain": [
       "0.4399338661568972"
      ]
     },
     "execution_count": 237,
     "metadata": {},
     "output_type": "execute_result"
    }
   ],
   "source": [
    "r2_score(y_test , y_pred)"
   ]
  },
  {
   "cell_type": "code",
   "execution_count": 238,
   "id": "460599d8",
   "metadata": {},
   "outputs": [
    {
     "data": {
      "text/plain": [
       "array([  -9.15865318, -205.45432163,  516.69374454,  340.61999905,\n",
       "       -895.5520019 ,  561.22067904,  153.89310954,  126.73139688,\n",
       "        861.12700152,   52.42112238])"
      ]
     },
     "execution_count": 238,
     "metadata": {},
     "output_type": "execute_result"
    }
   ],
   "source": [
    "lr.coef_"
   ]
  },
  {
   "cell_type": "code",
   "execution_count": 239,
   "id": "7f97d17d",
   "metadata": {},
   "outputs": [
    {
     "data": {
      "text/plain": [
       "151.88331005254167"
      ]
     },
     "execution_count": 239,
     "metadata": {},
     "output_type": "execute_result"
    }
   ],
   "source": [
    "lr.intercept_"
   ]
  },
  {
   "cell_type": "code",
   "execution_count": null,
   "id": "a3e96caa",
   "metadata": {},
   "outputs": [],
   "source": []
  },
  {
   "cell_type": "code",
   "execution_count": null,
   "id": "cbc58c9b",
   "metadata": {},
   "outputs": [],
   "source": []
  }
 ],
 "metadata": {
  "kernelspec": {
   "display_name": "Python 3 (ipykernel)",
   "language": "python",
   "name": "python3"
  },
  "language_info": {
   "codemirror_mode": {
    "name": "ipython",
    "version": 3
   },
   "file_extension": ".py",
   "mimetype": "text/x-python",
   "name": "python",
   "nbconvert_exporter": "python",
   "pygments_lexer": "ipython3",
   "version": "3.10.9"
  }
 },
 "nbformat": 4,
 "nbformat_minor": 5
}
